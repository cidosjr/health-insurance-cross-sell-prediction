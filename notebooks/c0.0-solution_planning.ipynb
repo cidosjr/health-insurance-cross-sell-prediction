{
 "cells": [
  {
   "cell_type": "markdown",
   "id": "6641734e",
   "metadata": {},
   "source": [
    "# Solution Planning"
   ]
  },
  {
   "cell_type": "markdown",
   "id": "4bda08a5",
   "metadata": {},
   "source": [
    "## Input"
   ]
  },
  {
   "cell_type": "markdown",
   "id": "d1256d7e",
   "metadata": {
    "heading_collapsed": true
   },
   "source": [
    "### 1.0. Problema de Negócio\n",
    "\n",
    "Nosso cliente é uma seguradora que forneceu Seguro Saúde para seus clientes, agora eles precisam de sua ajuda na construção de um modelo para prever a propensão se os segurados (clientes) do ano passado também terão interesse no Seguro Automóvel oferecido pela empresa.\n",
    "\n",
    "**Responder às seguintes perguntas de negócio:**\n",
    "1. Principais Insights sobre os atributos mais relevantes de clientes interessados em adquirir um seguro de automóvel.\n",
    "2. Qual a porcentagem de clientes interessados em adquirir um seguro de automóvel, o time de vendas conseguirá contatar fazendo 20.000 ligações?\n",
    "3. E se a capacidade do time de vendas aumentar para 40.000 ligações, qual a porcentagem de clientes interessados em adquirir um seguro de automóvel o time de vendas conseguirá contatar?\n",
    "4. Quantas ligações o time de vendas precisa fazer para contatar 80% dos clientes interessados em adquirir um seguro de automóvel?\n",
    "\n",
    "### 2.0. Base de Dados de Health Insurance\n",
    "https://www.kaggle.com/anmolkumar/health-insurance-cross-sell-prediction"
   ]
  },
  {
   "cell_type": "markdown",
   "id": "3f3c58f0",
   "metadata": {},
   "source": [
    "## Output"
   ]
  },
  {
   "cell_type": "markdown",
   "id": "96e83f2f",
   "metadata": {},
   "source": [
    "1. Construir um modelo para prever a propensão se um cliente estaria interessado em seguro de veículos.\n",
    "2. Disponibilizar o Modelo em uma API\n",
    "3. Relatório com as perguntas de negócio."
   ]
  },
  {
   "cell_type": "markdown",
   "id": "de151ddd",
   "metadata": {},
   "source": [
    "## Task"
   ]
  },
  {
   "cell_type": "markdown",
   "id": "2525cfcd",
   "metadata": {
    "ExecuteTime": {
     "end_time": "2021-08-08T18:49:02.789141Z",
     "start_time": "2021-08-08T18:49:02.771783Z"
    },
    "heading_collapsed": true
   },
   "source": [
    "### 1.0 Construição do modelo de Rank To Learning\n",
    "1. data description\n",
    "2. feature engineering\n",
    "3. eda \n",
    "\n",
    "\n",
    "### 2.0. Relatório com as respostas das Perguntas de Negocio.\n",
    "1. Principais Insights sobre os atributos mais relevantes de clientes interessados em adquirir um seguro de automóvel.\n",
    "2. Qual a porcentagem de clientes interessados em adquirir um seguro de automóvel, o time de vendas conseguirá contatar fazendo 20.000 ligações?\n",
    "3. E se a capacidade do time de vendas aumentar para 40.000 ligações, qual a porcentagem de clientes interessados em adquirir um seguro de automóvel o time de vendas conseguirá contatar?\n",
    "4. Quantas ligações o time de vendas precisa fazer para contatar 80% dos clientes interessados em adquirir um seguro de automóvel?\n"
   ]
  }
 ],
 "metadata": {
  "kernelspec": {
   "display_name": "Python 3",
   "language": "python",
   "name": "python3"
  },
  "language_info": {
   "codemirror_mode": {
    "name": "ipython",
    "version": 3
   },
   "file_extension": ".py",
   "mimetype": "text/x-python",
   "name": "python",
   "nbconvert_exporter": "python",
   "pygments_lexer": "ipython3",
   "version": "3.8.0"
  }
 },
 "nbformat": 4,
 "nbformat_minor": 5
}
