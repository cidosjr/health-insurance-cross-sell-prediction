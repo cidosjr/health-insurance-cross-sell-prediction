{
 "cells": [
  {
   "cell_type": "markdown",
   "id": "2c56d080",
   "metadata": {
    "heading_collapsed": true
   },
   "source": [
    "# 0.0. Imports"
   ]
  },
  {
   "cell_type": "code",
   "execution_count": 1,
   "id": "39520897",
   "metadata": {
    "ExecuteTime": {
     "end_time": "2021-06-02T14:16:30.107875Z",
     "start_time": "2021-06-02T14:16:28.004671Z"
    },
    "hidden": true
   },
   "outputs": [],
   "source": [
    "import pandas as pd\n",
    "import numpy as np\n",
    "import seaborn as sns\n",
    "import xgboost as xgb\n",
    "\n",
    "from matplotlib import pyplot as plt\n",
    "from IPython.display import HTML\n",
    "\n",
    "from sklearn import model_selection as ms\n",
    "from sklearn import neighbors as ng\n",
    "from sklearn import linear_model as lm\n",
    "from sklearn import ensemble as en"
   ]
  },
  {
   "cell_type": "markdown",
   "id": "89a16a30",
   "metadata": {
    "heading_collapsed": true,
    "hidden": true
   },
   "source": [
    "## 0.1. Helper Functions"
   ]
  },
  {
   "cell_type": "code",
   "execution_count": 16,
   "id": "2314a514",
   "metadata": {
    "ExecuteTime": {
     "end_time": "2021-06-02T14:21:17.272152Z",
     "start_time": "2021-06-02T14:21:17.231033Z"
    },
    "hidden": true,
    "run_control": {
     "marked": false
    }
   },
   "outputs": [],
   "source": [
    "def precision_at_k(data, k):\n",
    "    data = data.reset_index(drop=True)\n",
    "    data['ranking'] = data.index + 1\n",
    "    \n",
    "    data['precision_at_k'] = data['response'].cumsum() / data['ranking']\n",
    "    \n",
    "    return (data.loc[k, 'precision_at_k'], data)\n",
    "\n",
    "\n",
    "def recall_at_k( data, k ):\n",
    "    data = data.reset_index( drop=True )\n",
    "    data['ranking'] = data.index + 1\n",
    "    \n",
    "    data['recall_at_k'] = data['response'].cumsum() / data['response'].sum()\n",
    "    \n",
    "    return ( data.loc[ k, 'recall_at_k'], data )\n",
    "\n",
    "\n",
    "def perfomance_metrics_at_k(x_val, y_val, yhat, model_name, percentage_of_base):  \n",
    "    df = x_val.copy()\n",
    "    df['response'] = y_val\n",
    "    df['score'] = yhat[:, 1].tolist()\n",
    "    df = df.sort_values( 'score', ascending=False )\n",
    "\n",
    "    k = int(percentage_of_base * df.shape[0])\n",
    "\n",
    "    precision,  data = precision_at_k(df, k)\n",
    "    recall, data = recall_at_k(df, k)\n",
    "\n",
    "    return pd.DataFrame({'model_name': [model_name],\n",
    "                         'Precision@K': [round(precision, 3)],\n",
    "                         'Recall@K': [round(recall, 3)]}, index=[0])\n",
    "\n",
    "def descriptive_statistics(num_attributes):\n",
    "    # ct: mean, median\n",
    "    ct1 = pd.DataFrame(num_attributes.apply(np.mean))\n",
    "    ct2 = pd.DataFrame(num_attributes.apply(np.median))\n",
    "\n",
    "    # dispersion: min, max, range, std, skew, kurtosis\n",
    "    d1 = pd.DataFrame(num_attributes.apply(np.min))\n",
    "    d2 = pd.DataFrame(num_attributes.apply(np.max))\n",
    "    d3 = pd.DataFrame(num_attributes.apply(lambda x: x.max() - x.min() ))\n",
    "    d4 = pd.DataFrame(num_attributes.apply(lambda x: x.std() ))\n",
    "    d5 = pd.DataFrame(num_attributes.apply(lambda x: x.skew() ))\n",
    "    d6 = pd.DataFrame(num_attributes.apply(lambda x: x.kurtosis() ))\n",
    "\n",
    "    # concat\n",
    "    m = pd.concat([d1,d2,d3,ct1,ct2,d4,d5,d6], axis=1).reset_index()\n",
    "    m.columns = ['atributes', 'min', 'max', 'range', 'mean', 'median', 'std', 'skew', 'kurtosis' ]\n",
    "    return m\n",
    "\n",
    "def jupyter_settings():\n",
    "    %matplotlib inline\n",
    "    %pylab inline\n",
    "    \n",
    "    plt.style.use( 'bmh' )\n",
    "    plt.rcParams['figure.figsize'] = [25, 12]\n",
    "    plt.rcParams['font.size'] = 24\n",
    "    \n",
    "    display( HTML( '<style>.container { width:100% !important; }</style>') )\n",
    "    pd.options.display.max_columns = None\n",
    "    pd.options.display.max_rows = None\n",
    "    pd.set_option( 'display.expand_frame_repr', False )\n",
    "    \n",
    "    sns.set()"
   ]
  },
  {
   "cell_type": "code",
   "execution_count": 3,
   "id": "49645097",
   "metadata": {
    "ExecuteTime": {
     "end_time": "2021-06-02T14:16:30.197669Z",
     "start_time": "2021-06-02T14:16:30.163902Z"
    },
    "hidden": true
   },
   "outputs": [
    {
     "name": "stdout",
     "output_type": "stream",
     "text": [
      "Populating the interactive namespace from numpy and matplotlib\n"
     ]
    },
    {
     "data": {
      "text/html": [
       "<style>.container { width:100% !important; }</style>"
      ],
      "text/plain": [
       "<IPython.core.display.HTML object>"
      ]
     },
     "metadata": {},
     "output_type": "display_data"
    }
   ],
   "source": [
    "jupyter_settings()"
   ]
  },
  {
   "cell_type": "markdown",
   "id": "12fae751",
   "metadata": {
    "hidden": true
   },
   "source": [
    "## 0.2. Loading Data"
   ]
  },
  {
   "cell_type": "code",
   "execution_count": 4,
   "id": "99eb469b",
   "metadata": {
    "ExecuteTime": {
     "end_time": "2021-06-02T14:16:31.004456Z",
     "start_time": "2021-06-02T14:16:30.479087Z"
    },
    "hidden": true
   },
   "outputs": [],
   "source": [
    "df_raw = pd.read_csv('../data/raw/train.csv')"
   ]
  },
  {
   "cell_type": "markdown",
   "id": "20fdd744",
   "metadata": {
    "heading_collapsed": true
   },
   "source": [
    "# 1.0. Data Description"
   ]
  },
  {
   "cell_type": "code",
   "execution_count": 5,
   "id": "393f73f4",
   "metadata": {
    "ExecuteTime": {
     "end_time": "2021-06-02T14:16:31.843141Z",
     "start_time": "2021-06-02T14:16:31.814139Z"
    },
    "hidden": true
   },
   "outputs": [],
   "source": [
    "df1 = df_raw.copy()"
   ]
  },
  {
   "cell_type": "markdown",
   "id": "961373f1",
   "metadata": {
    "ExecuteTime": {
     "end_time": "2021-06-02T14:29:56.531405Z",
     "start_time": "2021-06-02T14:29:56.523515Z"
    },
    "hidden": true
   },
   "source": [
    "*  **Id:** identificador único do cliente.\n",
    "*  **Gender:** gênero do cliente.\n",
    "*  **Age:** idade do cliente.\n",
    "*  **Driving License:** 0, o cliente não tem permissão para dirigir e 1, o cliente tem para dirigir ( CNH – Carteira Nacional de Habilitação )\n",
    "*  **Region Code:** código da região do cliente.\n",
    "*  **Previously Insured:** 0, o cliente não tem seguro de automóvel e 1, o cliente já tem seguro de automóvel.\n",
    "*  **Vehicle Age:** idade do veículo.\n",
    "*  **Vehicle Damage:** 0, cliente nunca teve seu veículo danificado no passado e 1, cliente já teve seu veículo danificado no passado.\n",
    "*  **Anual Premium:** quantidade que o cliente pagou à empresa pelo seguro de saúde anual.\n",
    "*  **Policy sales channel:** código anônimo para o canal de contato com o cliente.\n",
    "*  **Vintage:** número de dias que o cliente se associou à empresa através da compra do seguro de saúde.\n",
    "*  **Response:** 0, o cliente não tem interesse e 1, o cliente tem interesse."
   ]
  },
  {
   "cell_type": "markdown",
   "id": "2a11bf92",
   "metadata": {
    "heading_collapsed": true,
    "hidden": true
   },
   "source": [
    "## 1.1. Rename Columns"
   ]
  },
  {
   "cell_type": "code",
   "execution_count": 6,
   "id": "bf52a607",
   "metadata": {
    "ExecuteTime": {
     "end_time": "2021-06-02T14:16:34.939955Z",
     "start_time": "2021-06-02T14:16:34.927469Z"
    },
    "hidden": true
   },
   "outputs": [],
   "source": [
    "cols_new = ['id', 'gender', 'age', 'driving_license', 'region_code', 'previously_insured', 'vehicle_age', \n",
    "            'vehicle_damage', 'annual_premium', 'policy_sales_channel', 'vintage', 'response']\n",
    "df1.columns = cols_new"
   ]
  },
  {
   "cell_type": "markdown",
   "id": "5240a16a",
   "metadata": {
    "heading_collapsed": true,
    "hidden": true
   },
   "source": [
    "## 1.2. Data Dimensions"
   ]
  },
  {
   "cell_type": "code",
   "execution_count": 10,
   "id": "ea725b5c",
   "metadata": {
    "ExecuteTime": {
     "end_time": "2021-06-02T14:17:51.871624Z",
     "start_time": "2021-06-02T14:17:51.866152Z"
    },
    "hidden": true
   },
   "outputs": [
    {
     "name": "stdout",
     "output_type": "stream",
     "text": [
      "Number Of Rows: 381109\n",
      "Number Of Columns: 12\n"
     ]
    }
   ],
   "source": [
    "print(f'Number Of Rows: {df1.shape[0]}')\n",
    "print(f'Number Of Columns: {df1.shape[1]}')"
   ]
  },
  {
   "cell_type": "markdown",
   "id": "0242f97d",
   "metadata": {
    "heading_collapsed": true,
    "hidden": true
   },
   "source": [
    "## 1.3. Data Types"
   ]
  },
  {
   "cell_type": "code",
   "execution_count": 11,
   "id": "2273c87e",
   "metadata": {
    "ExecuteTime": {
     "end_time": "2021-06-02T14:18:52.031807Z",
     "start_time": "2021-06-02T14:18:52.024923Z"
    },
    "hidden": true
   },
   "outputs": [
    {
     "data": {
      "text/plain": [
       "id                        int64\n",
       "gender                   object\n",
       "age                       int64\n",
       "driving_license           int64\n",
       "region_code             float64\n",
       "previously_insured        int64\n",
       "vehicle_age              object\n",
       "vehicle_damage           object\n",
       "annual_premium          float64\n",
       "policy_sales_channel    float64\n",
       "vintage                   int64\n",
       "response                  int64\n",
       "dtype: object"
      ]
     },
     "execution_count": 11,
     "metadata": {},
     "output_type": "execute_result"
    }
   ],
   "source": [
    "df1.dtypes"
   ]
  },
  {
   "cell_type": "markdown",
   "id": "e535e019",
   "metadata": {
    "heading_collapsed": true,
    "hidden": true
   },
   "source": [
    "## 1.4. Check NA"
   ]
  },
  {
   "cell_type": "code",
   "execution_count": 12,
   "id": "901ff117",
   "metadata": {
    "ExecuteTime": {
     "end_time": "2021-06-02T14:19:16.034892Z",
     "start_time": "2021-06-02T14:19:15.926504Z"
    },
    "hidden": true
   },
   "outputs": [
    {
     "data": {
      "text/plain": [
       "id                      0\n",
       "gender                  0\n",
       "age                     0\n",
       "driving_license         0\n",
       "region_code             0\n",
       "previously_insured      0\n",
       "vehicle_age             0\n",
       "vehicle_damage          0\n",
       "annual_premium          0\n",
       "policy_sales_channel    0\n",
       "vintage                 0\n",
       "response                0\n",
       "dtype: int64"
      ]
     },
     "execution_count": 12,
     "metadata": {},
     "output_type": "execute_result"
    }
   ],
   "source": [
    "df1.isna().sum()"
   ]
  },
  {
   "cell_type": "markdown",
   "id": "f3f2102e",
   "metadata": {
    "heading_collapsed": true,
    "hidden": true
   },
   "source": [
    "## 1.5. Statistical Descriptive"
   ]
  },
  {
   "cell_type": "code",
   "execution_count": 15,
   "id": "671b025b",
   "metadata": {
    "ExecuteTime": {
     "end_time": "2021-06-02T14:20:49.709535Z",
     "start_time": "2021-06-02T14:20:49.529131Z"
    },
    "hidden": true
   },
   "outputs": [],
   "source": [
    "num_atr = df1.select_dtypes(include=['int64', 'float64'])\n",
    "cat_atr = df1.select_dtypes(include=['object'])"
   ]
  },
  {
   "cell_type": "markdown",
   "id": "5fd462cf",
   "metadata": {
    "heading_collapsed": true,
    "hidden": true
   },
   "source": [
    "### 1.5.1. Numerical Attributes"
   ]
  },
  {
   "cell_type": "code",
   "execution_count": 17,
   "id": "d392ee17",
   "metadata": {
    "ExecuteTime": {
     "end_time": "2021-06-02T14:21:50.223834Z",
     "start_time": "2021-06-02T14:21:49.876976Z"
    },
    "hidden": true
   },
   "outputs": [
    {
     "data": {
      "text/html": [
       "<div>\n",
       "<style scoped>\n",
       "    .dataframe tbody tr th:only-of-type {\n",
       "        vertical-align: middle;\n",
       "    }\n",
       "\n",
       "    .dataframe tbody tr th {\n",
       "        vertical-align: top;\n",
       "    }\n",
       "\n",
       "    .dataframe thead th {\n",
       "        text-align: right;\n",
       "    }\n",
       "</style>\n",
       "<table border=\"1\" class=\"dataframe\">\n",
       "  <thead>\n",
       "    <tr style=\"text-align: right;\">\n",
       "      <th></th>\n",
       "      <th>atributes</th>\n",
       "      <th>min</th>\n",
       "      <th>max</th>\n",
       "      <th>range</th>\n",
       "      <th>mean</th>\n",
       "      <th>median</th>\n",
       "      <th>std</th>\n",
       "      <th>skew</th>\n",
       "      <th>kurtosis</th>\n",
       "    </tr>\n",
       "  </thead>\n",
       "  <tbody>\n",
       "    <tr>\n",
       "      <th>0</th>\n",
       "      <td>id</td>\n",
       "      <td>1.0</td>\n",
       "      <td>381109.0</td>\n",
       "      <td>381108.0</td>\n",
       "      <td>190555.000000</td>\n",
       "      <td>190555.0</td>\n",
       "      <td>110016.836208</td>\n",
       "      <td>9.443274e-16</td>\n",
       "      <td>-1.200000</td>\n",
       "    </tr>\n",
       "    <tr>\n",
       "      <th>1</th>\n",
       "      <td>age</td>\n",
       "      <td>20.0</td>\n",
       "      <td>85.0</td>\n",
       "      <td>65.0</td>\n",
       "      <td>38.822584</td>\n",
       "      <td>36.0</td>\n",
       "      <td>15.511611</td>\n",
       "      <td>6.725390e-01</td>\n",
       "      <td>-0.565655</td>\n",
       "    </tr>\n",
       "    <tr>\n",
       "      <th>2</th>\n",
       "      <td>driving_license</td>\n",
       "      <td>0.0</td>\n",
       "      <td>1.0</td>\n",
       "      <td>1.0</td>\n",
       "      <td>0.997869</td>\n",
       "      <td>1.0</td>\n",
       "      <td>0.046110</td>\n",
       "      <td>-2.159518e+01</td>\n",
       "      <td>464.354302</td>\n",
       "    </tr>\n",
       "    <tr>\n",
       "      <th>3</th>\n",
       "      <td>region_code</td>\n",
       "      <td>0.0</td>\n",
       "      <td>52.0</td>\n",
       "      <td>52.0</td>\n",
       "      <td>26.388807</td>\n",
       "      <td>28.0</td>\n",
       "      <td>13.229888</td>\n",
       "      <td>-1.152664e-01</td>\n",
       "      <td>-0.867857</td>\n",
       "    </tr>\n",
       "    <tr>\n",
       "      <th>4</th>\n",
       "      <td>previously_insured</td>\n",
       "      <td>0.0</td>\n",
       "      <td>1.0</td>\n",
       "      <td>1.0</td>\n",
       "      <td>0.458210</td>\n",
       "      <td>0.0</td>\n",
       "      <td>0.498251</td>\n",
       "      <td>1.677471e-01</td>\n",
       "      <td>-1.971871</td>\n",
       "    </tr>\n",
       "    <tr>\n",
       "      <th>5</th>\n",
       "      <td>annual_premium</td>\n",
       "      <td>2630.0</td>\n",
       "      <td>540165.0</td>\n",
       "      <td>537535.0</td>\n",
       "      <td>30564.389581</td>\n",
       "      <td>31669.0</td>\n",
       "      <td>17213.155057</td>\n",
       "      <td>1.766087e+00</td>\n",
       "      <td>34.004569</td>\n",
       "    </tr>\n",
       "    <tr>\n",
       "      <th>6</th>\n",
       "      <td>policy_sales_channel</td>\n",
       "      <td>1.0</td>\n",
       "      <td>163.0</td>\n",
       "      <td>162.0</td>\n",
       "      <td>112.034295</td>\n",
       "      <td>133.0</td>\n",
       "      <td>54.203995</td>\n",
       "      <td>-9.000081e-01</td>\n",
       "      <td>-0.970810</td>\n",
       "    </tr>\n",
       "    <tr>\n",
       "      <th>7</th>\n",
       "      <td>vintage</td>\n",
       "      <td>10.0</td>\n",
       "      <td>299.0</td>\n",
       "      <td>289.0</td>\n",
       "      <td>154.347397</td>\n",
       "      <td>154.0</td>\n",
       "      <td>83.671304</td>\n",
       "      <td>3.029517e-03</td>\n",
       "      <td>-1.200688</td>\n",
       "    </tr>\n",
       "    <tr>\n",
       "      <th>8</th>\n",
       "      <td>response</td>\n",
       "      <td>0.0</td>\n",
       "      <td>1.0</td>\n",
       "      <td>1.0</td>\n",
       "      <td>0.122563</td>\n",
       "      <td>0.0</td>\n",
       "      <td>0.327936</td>\n",
       "      <td>2.301906e+00</td>\n",
       "      <td>3.298788</td>\n",
       "    </tr>\n",
       "  </tbody>\n",
       "</table>\n",
       "</div>"
      ],
      "text/plain": [
       "              atributes     min       max     range           mean    median            std          skew    kurtosis\n",
       "0                    id     1.0  381109.0  381108.0  190555.000000  190555.0  110016.836208  9.443274e-16   -1.200000\n",
       "1                   age    20.0      85.0      65.0      38.822584      36.0      15.511611  6.725390e-01   -0.565655\n",
       "2       driving_license     0.0       1.0       1.0       0.997869       1.0       0.046110 -2.159518e+01  464.354302\n",
       "3           region_code     0.0      52.0      52.0      26.388807      28.0      13.229888 -1.152664e-01   -0.867857\n",
       "4    previously_insured     0.0       1.0       1.0       0.458210       0.0       0.498251  1.677471e-01   -1.971871\n",
       "5        annual_premium  2630.0  540165.0  537535.0   30564.389581   31669.0   17213.155057  1.766087e+00   34.004569\n",
       "6  policy_sales_channel     1.0     163.0     162.0     112.034295     133.0      54.203995 -9.000081e-01   -0.970810\n",
       "7               vintage    10.0     299.0     289.0     154.347397     154.0      83.671304  3.029517e-03   -1.200688\n",
       "8              response     0.0       1.0       1.0       0.122563       0.0       0.327936  2.301906e+00    3.298788"
      ]
     },
     "execution_count": 17,
     "metadata": {},
     "output_type": "execute_result"
    }
   ],
   "source": [
    "descriptive_statistics(num_atr)"
   ]
  },
  {
   "cell_type": "markdown",
   "id": "11649c1e",
   "metadata": {
    "heading_collapsed": true,
    "hidden": true
   },
   "source": [
    "### 1.5.2. Categorical Attributes"
   ]
  },
  {
   "cell_type": "code",
   "execution_count": 30,
   "id": "ec7caf7f",
   "metadata": {
    "ExecuteTime": {
     "end_time": "2021-06-02T14:26:59.495973Z",
     "start_time": "2021-06-02T14:26:59.208547Z"
    },
    "hidden": true
   },
   "outputs": [
    {
     "name": "stdout",
     "output_type": "stream",
     "text": [
      "[ gender ]: \n"
     ]
    },
    {
     "data": {
      "text/plain": [
       "Male      0.540761\n",
       "Female    0.459239\n",
       "Name: gender, dtype: float64"
      ]
     },
     "metadata": {},
     "output_type": "display_data"
    },
    {
     "name": "stdout",
     "output_type": "stream",
     "text": [
      "[ vehicle_age ]: \n"
     ]
    },
    {
     "data": {
      "text/plain": [
       "1-2 Year     0.525613\n",
       "< 1 Year     0.432385\n",
       "> 2 Years    0.042001\n",
       "Name: vehicle_age, dtype: float64"
      ]
     },
     "metadata": {},
     "output_type": "display_data"
    },
    {
     "name": "stdout",
     "output_type": "stream",
     "text": [
      "[ vehicle_damage ]: \n"
     ]
    },
    {
     "data": {
      "text/plain": [
       "Yes    0.504877\n",
       "No     0.495123\n",
       "Name: vehicle_damage, dtype: float64"
      ]
     },
     "metadata": {},
     "output_type": "display_data"
    },
    {
     "name": "stdout",
     "output_type": "stream",
     "text": [
      "[ driving_license ]: \n"
     ]
    },
    {
     "data": {
      "text/plain": [
       "1    0.997869\n",
       "0    0.002131\n",
       "Name: driving_license, dtype: float64"
      ]
     },
     "metadata": {},
     "output_type": "display_data"
    },
    {
     "name": "stdout",
     "output_type": "stream",
     "text": [
      "[ response ]: \n"
     ]
    },
    {
     "data": {
      "text/plain": [
       "0    0.877437\n",
       "1    0.122563\n",
       "Name: response, dtype: float64"
      ]
     },
     "metadata": {},
     "output_type": "display_data"
    },
    {
     "name": "stdout",
     "output_type": "stream",
     "text": [
      "[ previously_insured ]: \n"
     ]
    },
    {
     "data": {
      "text/plain": [
       "0    0.54179\n",
       "1    0.45821\n",
       "Name: previously_insured, dtype: float64"
      ]
     },
     "metadata": {},
     "output_type": "display_data"
    }
   ],
   "source": [
    "columns = ['gender', 'vehicle_age', 'vehicle_damage', 'driving_license', 'response', 'previously_insured']\n",
    "for column in columns:\n",
    "    print(f'[ {column} ]: ')\n",
    "    display(df1[column].value_counts(normalize=True))"
   ]
  },
  {
   "cell_type": "markdown",
   "id": "8a2f8712",
   "metadata": {
    "heading_collapsed": true
   },
   "source": [
    "# 2.0. Feature Engineering"
   ]
  },
  {
   "cell_type": "code",
   "execution_count": 7,
   "id": "9c0d4b37",
   "metadata": {
    "ExecuteTime": {
     "end_time": "2021-06-02T13:57:16.755619Z",
     "start_time": "2021-06-02T13:57:16.697414Z"
    },
    "hidden": true
   },
   "outputs": [],
   "source": [
    "df2 = df1.copy()"
   ]
  },
  {
   "cell_type": "markdown",
   "id": "84cdf812",
   "metadata": {
    "hidden": true
   },
   "source": [
    "## 2.1. Feature Creation"
   ]
  },
  {
   "cell_type": "code",
   "execution_count": 8,
   "id": "bbfd0c8e",
   "metadata": {
    "ExecuteTime": {
     "end_time": "2021-06-02T13:57:16.884657Z",
     "start_time": "2021-06-02T13:57:16.758624Z"
    },
    "hidden": true
   },
   "outputs": [],
   "source": [
    "# gender\n",
    "gender_map = {'Male': 1, 'Female': 0}\n",
    "df2.loc[:, 'gender'] = df2['gender'].map(gender_map)\n",
    "\n",
    "# vehicle_age\n",
    "vehicle_age_map = {'1-2 Year': 'between_1_2_years', '< 1 Year': 'bellow_1_year', '> 2 Years': 'over_2_year'}\n",
    "df2.loc[:, 'vehicle_age'] = df2['vehicle_age'].map(vehicle_age_map)\n",
    "\n",
    "# vehicle_damage\n",
    "vehicle_damage_map = {'Yes': 1, 'No': 0}\n",
    "df2.loc[:, 'vehicle_damage'] = df2['vehicle_damage'].map(vehicle_damage_map)"
   ]
  },
  {
   "cell_type": "markdown",
   "id": "bfdfa236",
   "metadata": {
    "heading_collapsed": true
   },
   "source": [
    "# 3.0. Data Filtering"
   ]
  },
  {
   "cell_type": "code",
   "execution_count": 9,
   "id": "8eb860e5",
   "metadata": {
    "ExecuteTime": {
     "end_time": "2021-06-02T13:57:16.910226Z",
     "start_time": "2021-06-02T13:57:16.886828Z"
    },
    "hidden": true
   },
   "outputs": [],
   "source": [
    "df3 = df2.copy()"
   ]
  },
  {
   "cell_type": "markdown",
   "id": "1e9af8a2",
   "metadata": {
    "heading_collapsed": true
   },
   "source": [
    "# 4.0. EDA"
   ]
  },
  {
   "cell_type": "code",
   "execution_count": 10,
   "id": "cdfec81d",
   "metadata": {
    "ExecuteTime": {
     "end_time": "2021-06-02T13:57:16.984296Z",
     "start_time": "2021-06-02T13:57:16.913321Z"
    },
    "hidden": true
   },
   "outputs": [],
   "source": [
    "df4 = df3.copy()"
   ]
  },
  {
   "cell_type": "markdown",
   "id": "77cb317d",
   "metadata": {
    "heading_collapsed": true
   },
   "source": [
    "# 5.0. Data Preparation"
   ]
  },
  {
   "cell_type": "code",
   "execution_count": 11,
   "id": "c9390ed5",
   "metadata": {
    "ExecuteTime": {
     "end_time": "2021-06-02T13:57:17.203539Z",
     "start_time": "2021-06-02T13:57:16.986259Z"
    },
    "hidden": true
   },
   "outputs": [],
   "source": [
    "X = df4.drop(['response', 'id'], axis=1).copy()\n",
    "y = df4['response'].copy()\n",
    "\n",
    "x_train, x_validation, y_train, y_validation = ms.train_test_split(X, y, test_size=0.2)\n",
    "\n",
    "df5 = pd.concat([x_train, y_train], axis=1)"
   ]
  },
  {
   "cell_type": "markdown",
   "id": "9f3220b2",
   "metadata": {
    "hidden": true
   },
   "source": [
    "## 5.1. Standardization"
   ]
  },
  {
   "cell_type": "markdown",
   "id": "b9de6477",
   "metadata": {
    "hidden": true
   },
   "source": [
    "## 5.2. Rescaling"
   ]
  },
  {
   "cell_type": "markdown",
   "id": "fe4a63bb",
   "metadata": {
    "hidden": true
   },
   "source": [
    "## 5.3. Encoding"
   ]
  },
  {
   "cell_type": "code",
   "execution_count": 12,
   "id": "94566b25",
   "metadata": {
    "ExecuteTime": {
     "end_time": "2021-06-02T13:57:17.290427Z",
     "start_time": "2021-06-02T13:57:17.205398Z"
    },
    "hidden": true
   },
   "outputs": [],
   "source": [
    "df5 = pd.get_dummies(df5, columns=['vehicle_age'], prefix=['vehicle_age'])"
   ]
  },
  {
   "cell_type": "markdown",
   "id": "ad7ec988",
   "metadata": {
    "hidden": true
   },
   "source": [
    "## 5.4. Data Preparation - Validation "
   ]
  },
  {
   "cell_type": "code",
   "execution_count": 13,
   "id": "581db845",
   "metadata": {
    "ExecuteTime": {
     "end_time": "2021-06-02T13:57:17.311887Z",
     "start_time": "2021-06-02T13:57:17.292461Z"
    },
    "hidden": true
   },
   "outputs": [],
   "source": [
    "x_validation = pd.get_dummies(x_validation, columns=['vehicle_age'], prefix=['vehicle_age'])"
   ]
  },
  {
   "cell_type": "markdown",
   "id": "a90ce96e",
   "metadata": {
    "heading_collapsed": true
   },
   "source": [
    "# 6.0. Feature Selection"
   ]
  },
  {
   "cell_type": "code",
   "execution_count": 14,
   "id": "271d14b2",
   "metadata": {
    "ExecuteTime": {
     "end_time": "2021-06-02T13:57:17.318764Z",
     "start_time": "2021-06-02T13:57:17.314678Z"
    },
    "hidden": true
   },
   "outputs": [],
   "source": [
    "cols_selected = ['gender', 'age', 'driving_license', 'region_code', \n",
    "                 'previously_insured','vehicle_damage', 'annual_premium', \n",
    "                 'policy_sales_channel', 'vintage', 'vehicle_age_bellow_1_year',\n",
    "                 'vehicle_age_between_1_2_years', 'vehicle_age_over_2_year']"
   ]
  },
  {
   "cell_type": "markdown",
   "id": "cc20e0c4",
   "metadata": {
    "heading_collapsed": true
   },
   "source": [
    "# 7.0. Machine Learning Modelling"
   ]
  },
  {
   "cell_type": "code",
   "execution_count": 15,
   "id": "ca039fbf",
   "metadata": {
    "ExecuteTime": {
     "end_time": "2021-06-02T13:57:17.360006Z",
     "start_time": "2021-06-02T13:57:17.320829Z"
    },
    "hidden": true
   },
   "outputs": [],
   "source": [
    "x_train = df5[cols_selected]\n",
    "\n",
    "x_val = x_validation[cols_selected]\n",
    "y_val = y_validation"
   ]
  },
  {
   "cell_type": "markdown",
   "id": "85ebed9d",
   "metadata": {
    "heading_collapsed": true,
    "hidden": true
   },
   "source": [
    "## 7.1. KNN"
   ]
  },
  {
   "cell_type": "code",
   "execution_count": 16,
   "id": "fc74962d",
   "metadata": {
    "ExecuteTime": {
     "end_time": "2021-06-02T13:57:30.221862Z",
     "start_time": "2021-06-02T13:57:17.362440Z"
    },
    "hidden": true
   },
   "outputs": [],
   "source": [
    "# model definition and fit\n",
    "model_knn = ng.KNeighborsClassifier().fit(x_train, y_train)\n",
    "\n",
    "# Predictions\n",
    "yhat_knn = model_knn.predict_proba(x_val)\n",
    "\n",
    "# Performance\n",
    "result_knn = perfomance_metrics_at_k(x_val, y_val, yhat_knn, 'KNeighborsClassifier', 0.2)\n",
    "result_knn"
   ]
  },
  {
   "cell_type": "markdown",
   "id": "ceee187a",
   "metadata": {
    "heading_collapsed": true,
    "hidden": true
   },
   "source": [
    "## 7.2. Logistic Regression"
   ]
  },
  {
   "cell_type": "code",
   "execution_count": 28,
   "id": "406461d8",
   "metadata": {
    "ExecuteTime": {
     "end_time": "2021-06-02T14:08:05.235814Z",
     "start_time": "2021-06-02T14:07:59.963966Z"
    },
    "hidden": true
   },
   "outputs": [
    {
     "name": "stderr",
     "output_type": "stream",
     "text": [
      "/home/cid/.pyenv/versions/3.8.0/envs/health-insurance-cross-sell-prediction/lib/python3.8/site-packages/sklearn/linear_model/_logistic.py:763: ConvergenceWarning: lbfgs failed to converge (status=1):\n",
      "STOP: TOTAL NO. of ITERATIONS REACHED LIMIT.\n",
      "\n",
      "Increase the number of iterations (max_iter) or scale the data as shown in:\n",
      "    https://scikit-learn.org/stable/modules/preprocessing.html\n",
      "Please also refer to the documentation for alternative solver options:\n",
      "    https://scikit-learn.org/stable/modules/linear_model.html#logistic-regression\n",
      "  n_iter_i = _check_optimize_result(\n"
     ]
    },
    {
     "data": {
      "text/html": [
       "<div>\n",
       "<style scoped>\n",
       "    .dataframe tbody tr th:only-of-type {\n",
       "        vertical-align: middle;\n",
       "    }\n",
       "\n",
       "    .dataframe tbody tr th {\n",
       "        vertical-align: top;\n",
       "    }\n",
       "\n",
       "    .dataframe thead th {\n",
       "        text-align: right;\n",
       "    }\n",
       "</style>\n",
       "<table border=\"1\" class=\"dataframe\">\n",
       "  <thead>\n",
       "    <tr style=\"text-align: right;\">\n",
       "      <th></th>\n",
       "      <th>model_name</th>\n",
       "      <th>Precision@K</th>\n",
       "      <th>Recall@K</th>\n",
       "    </tr>\n",
       "  </thead>\n",
       "  <tbody>\n",
       "    <tr>\n",
       "      <th>0</th>\n",
       "      <td>LogisticRegression</td>\n",
       "      <td>0.228</td>\n",
       "      <td>0.375</td>\n",
       "    </tr>\n",
       "  </tbody>\n",
       "</table>\n",
       "</div>"
      ],
      "text/plain": [
       "           model_name  Precision@K  Recall@K\n",
       "0  LogisticRegression        0.228     0.375"
      ]
     },
     "execution_count": 28,
     "metadata": {},
     "output_type": "execute_result"
    }
   ],
   "source": [
    "# model definition and fit\n",
    "model_lr = lm.LogisticRegression().fit(x_train, y_train)\n",
    "\n",
    "# predictions\n",
    "yhat_lr = model_lr.predict_proba(x_val)\n",
    "\n",
    "# Performance\n",
    "result_lr = perfomance_metrics_at_k(x_val, y_val, yhat_lr, 'LogisticRegression', 0.2)\n",
    "result_lr"
   ]
  },
  {
   "cell_type": "markdown",
   "id": "8ee2c44b",
   "metadata": {
    "heading_collapsed": true,
    "hidden": true
   },
   "source": [
    "## 7.3. Extra Trees Classifier"
   ]
  },
  {
   "cell_type": "code",
   "execution_count": 23,
   "id": "ad4b8077",
   "metadata": {
    "ExecuteTime": {
     "end_time": "2021-06-02T14:02:42.890815Z",
     "start_time": "2021-06-02T14:02:10.825798Z"
    },
    "hidden": true
   },
   "outputs": [],
   "source": [
    "# model definition and fit\n",
    "model_et = en.ExtraTreesClassifier().fit(x_train, y_train)\n",
    "\n",
    "# predictions\n",
    "yhat_et = model_et.predict_proba(x_val)\n",
    "\n",
    "# Perfomance\n",
    "result_et = perfomance_metrics_at_k(x_val, y_val, yhat_et, 'ExtraTreesClassifier', 0.2 )\n",
    "result_et"
   ]
  },
  {
   "cell_type": "markdown",
   "id": "f6bb87c5",
   "metadata": {
    "heading_collapsed": true,
    "hidden": true
   },
   "source": [
    "## 7.4. Random Forest Classifier"
   ]
  },
  {
   "cell_type": "code",
   "execution_count": 26,
   "id": "daf6ca76",
   "metadata": {
    "ExecuteTime": {
     "end_time": "2021-06-02T14:06:20.757086Z",
     "start_time": "2021-06-02T14:04:59.348904Z"
    },
    "hidden": true
   },
   "outputs": [],
   "source": [
    "model_rf = en.RandomForestClassifier().fit(x_train, y_train)\n",
    "\n",
    "yhat_rf = model_rf.predict_proba(x_val)\n",
    "\n",
    "result_rf = perfomance_metrics_at_k(x_val, y_val, yhat_rf, 'RandomForestClassifier', 0.2)\n",
    "result_rf"
   ]
  },
  {
   "cell_type": "markdown",
   "id": "54f90d7f",
   "metadata": {
    "heading_collapsed": true,
    "hidden": true
   },
   "source": [
    "## 7.5.  XGBoost Classifier"
   ]
  },
  {
   "cell_type": "code",
   "execution_count": 35,
   "id": "4add8106",
   "metadata": {
    "ExecuteTime": {
     "end_time": "2021-06-02T14:13:06.038800Z",
     "start_time": "2021-06-02T14:12:42.178966Z"
    },
    "hidden": true
   },
   "outputs": [
    {
     "data": {
      "text/html": [
       "<div>\n",
       "<style scoped>\n",
       "    .dataframe tbody tr th:only-of-type {\n",
       "        vertical-align: middle;\n",
       "    }\n",
       "\n",
       "    .dataframe tbody tr th {\n",
       "        vertical-align: top;\n",
       "    }\n",
       "\n",
       "    .dataframe thead th {\n",
       "        text-align: right;\n",
       "    }\n",
       "</style>\n",
       "<table border=\"1\" class=\"dataframe\">\n",
       "  <thead>\n",
       "    <tr style=\"text-align: right;\">\n",
       "      <th></th>\n",
       "      <th>model_name</th>\n",
       "      <th>Precision@K</th>\n",
       "      <th>Recall@K</th>\n",
       "    </tr>\n",
       "  </thead>\n",
       "  <tbody>\n",
       "    <tr>\n",
       "      <th>0</th>\n",
       "      <td>XGBClassifier</td>\n",
       "      <td>0.354</td>\n",
       "      <td>0.581</td>\n",
       "    </tr>\n",
       "  </tbody>\n",
       "</table>\n",
       "</div>"
      ],
      "text/plain": [
       "      model_name  Precision@K  Recall@K\n",
       "0  XGBClassifier        0.354     0.581"
      ]
     },
     "execution_count": 35,
     "metadata": {},
     "output_type": "execute_result"
    }
   ],
   "source": [
    "# model definition and fit\n",
    "model_xgb = xgb.XGBClassifier().fit(x_train, y_train)\n",
    "\n",
    "# predictions\n",
    "yhat_xgb = model_xgb.predict_proba(x_val)\n",
    "\n",
    "# Perfomance\n",
    "result_xgb = perfomance_metrics_at_k(x_val, y_val, yhat_xgb, 'XGBClassifier', 0.2)\n",
    "result_xgb"
   ]
  },
  {
   "cell_type": "markdown",
   "id": "e2ebf298",
   "metadata": {
    "heading_collapsed": true,
    "hidden": true
   },
   "source": [
    "## 7.6. Machine Learning Model's Performance"
   ]
  },
  {
   "cell_type": "code",
   "execution_count": 39,
   "id": "33957185",
   "metadata": {
    "ExecuteTime": {
     "end_time": "2021-06-02T14:14:40.069835Z",
     "start_time": "2021-06-02T14:14:40.050732Z"
    },
    "hidden": true
   },
   "outputs": [
    {
     "data": {
      "text/html": [
       "<div>\n",
       "<style scoped>\n",
       "    .dataframe tbody tr th:only-of-type {\n",
       "        vertical-align: middle;\n",
       "    }\n",
       "\n",
       "    .dataframe tbody tr th {\n",
       "        vertical-align: top;\n",
       "    }\n",
       "\n",
       "    .dataframe thead th {\n",
       "        text-align: right;\n",
       "    }\n",
       "</style>\n",
       "<table border=\"1\" class=\"dataframe\">\n",
       "  <thead>\n",
       "    <tr style=\"text-align: right;\">\n",
       "      <th></th>\n",
       "      <th>model_name</th>\n",
       "      <th>Precision@K</th>\n",
       "      <th>Recall@K</th>\n",
       "    </tr>\n",
       "  </thead>\n",
       "  <tbody>\n",
       "    <tr>\n",
       "      <th>0</th>\n",
       "      <td>XGBClassifier</td>\n",
       "      <td>0.354</td>\n",
       "      <td>0.581</td>\n",
       "    </tr>\n",
       "    <tr>\n",
       "      <th>0</th>\n",
       "      <td>RandomForestClassifier</td>\n",
       "      <td>0.320</td>\n",
       "      <td>0.526</td>\n",
       "    </tr>\n",
       "    <tr>\n",
       "      <th>0</th>\n",
       "      <td>ExtraTreesClassifier</td>\n",
       "      <td>0.316</td>\n",
       "      <td>0.519</td>\n",
       "    </tr>\n",
       "    <tr>\n",
       "      <th>0</th>\n",
       "      <td>LogisticRegression</td>\n",
       "      <td>0.228</td>\n",
       "      <td>0.375</td>\n",
       "    </tr>\n",
       "    <tr>\n",
       "      <th>0</th>\n",
       "      <td>KNeighborsClassifier</td>\n",
       "      <td>0.183</td>\n",
       "      <td>0.301</td>\n",
       "    </tr>\n",
       "  </tbody>\n",
       "</table>\n",
       "</div>"
      ],
      "text/plain": [
       "               model_name  Precision@K  Recall@K\n",
       "0           XGBClassifier        0.354     0.581\n",
       "0  RandomForestClassifier        0.320     0.526\n",
       "0    ExtraTreesClassifier        0.316     0.519\n",
       "0      LogisticRegression        0.228     0.375\n",
       "0    KNeighborsClassifier        0.183     0.301"
      ]
     },
     "execution_count": 39,
     "metadata": {},
     "output_type": "execute_result"
    }
   ],
   "source": [
    "result = pd.concat([result_knn, result_lr, result_et, result_rf, result_xgb]).sort_values('Recall@K', ascending=False)\n",
    "result"
   ]
  }
 ],
 "metadata": {
  "kernelspec": {
   "display_name": "Python 3",
   "language": "python",
   "name": "python3"
  },
  "language_info": {
   "codemirror_mode": {
    "name": "ipython",
    "version": 3
   },
   "file_extension": ".py",
   "mimetype": "text/x-python",
   "name": "python",
   "nbconvert_exporter": "python",
   "pygments_lexer": "ipython3",
   "version": "3.8.0"
  }
 },
 "nbformat": 4,
 "nbformat_minor": 5
}
