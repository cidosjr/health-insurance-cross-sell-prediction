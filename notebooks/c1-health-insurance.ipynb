{
 "cells": [
  {
   "cell_type": "markdown",
   "id": "2c56d080",
   "metadata": {
    "heading_collapsed": true
   },
   "source": [
    "# 0.0. Imports"
   ]
  },
  {
   "cell_type": "code",
   "execution_count": 34,
   "id": "39520897",
   "metadata": {
    "ExecuteTime": {
     "end_time": "2021-06-02T14:10:11.621457Z",
     "start_time": "2021-06-02T14:10:11.549603Z"
    },
    "hidden": true
   },
   "outputs": [],
   "source": [
    "import pandas as pd\n",
    "import numpy as np\n",
    "import seaborn as sns\n",
    "import xgboost as xgb\n",
    "\n",
    "from matplotlib import pyplot as plt\n",
    "from IPython.display import HTML\n",
    "\n",
    "from sklearn import model_selection as ms\n",
    "from sklearn import neighbors as ng\n",
    "from sklearn import linear_model as lm\n",
    "from sklearn import ensemble as en"
   ]
  },
  {
   "cell_type": "markdown",
   "id": "89a16a30",
   "metadata": {
    "heading_collapsed": true,
    "hidden": true
   },
   "source": [
    "## 0.1. Helper Functions"
   ]
  },
  {
   "cell_type": "code",
   "execution_count": 2,
   "id": "2314a514",
   "metadata": {
    "ExecuteTime": {
     "end_time": "2021-06-02T13:57:16.105727Z",
     "start_time": "2021-06-02T13:57:16.070939Z"
    },
    "hidden": true,
    "run_control": {
     "marked": false
    }
   },
   "outputs": [],
   "source": [
    "def precision_at_k(data, k):\n",
    "    data = data.reset_index(drop=True)\n",
    "    data['ranking'] = data.index + 1\n",
    "    \n",
    "    data['precision_at_k'] = data['response'].cumsum() / data['ranking']\n",
    "    \n",
    "    return (data.loc[k, 'precision_at_k'], data)\n",
    "\n",
    "\n",
    "def recall_at_k( data, k ):\n",
    "    data = data.reset_index( drop=True )\n",
    "    data['ranking'] = data.index + 1\n",
    "    \n",
    "    data['recall_at_k'] = data['response'].cumsum() / data['response'].sum()\n",
    "    \n",
    "    return ( data.loc[ k, 'recall_at_k'], data )\n",
    "\n",
    "\n",
    "def perfomance_metrics_at_k(x_val, y_val, yhat, model_name, percentage_of_base):  \n",
    "    df = x_val.copy()\n",
    "    df['response'] = y_val\n",
    "    df['score'] = yhat[:, 1].tolist()\n",
    "    df = df.sort_values( 'score', ascending=False )\n",
    "\n",
    "    k = int(percentage_of_base * df.shape[0])\n",
    "\n",
    "    precision,  data = precision_at_k(df, k)\n",
    "    recall, data = recall_at_k(df, k)\n",
    "\n",
    "    return pd.DataFrame({'model_name': [model_name],\n",
    "                         'Precision@K': [round(precision, 3)],\n",
    "                         'Recall@K': [round(recall, 3)]}, index=[0])\n",
    "def jupyter_settings():\n",
    "    %matplotlib inline\n",
    "    %pylab inline\n",
    "    \n",
    "    plt.style.use( 'bmh' )\n",
    "    plt.rcParams['figure.figsize'] = [25, 12]\n",
    "    plt.rcParams['font.size'] = 24\n",
    "    \n",
    "    display( HTML( '<style>.container { width:100% !important; }</style>') )\n",
    "    pd.options.display.max_columns = None\n",
    "    pd.options.display.max_rows = None\n",
    "    pd.set_option( 'display.expand_frame_repr', False )\n",
    "    \n",
    "    sns.set()"
   ]
  },
  {
   "cell_type": "code",
   "execution_count": 3,
   "id": "49645097",
   "metadata": {
    "ExecuteTime": {
     "end_time": "2021-06-02T13:57:16.134896Z",
     "start_time": "2021-06-02T13:57:16.108917Z"
    },
    "hidden": true
   },
   "outputs": [
    {
     "name": "stdout",
     "output_type": "stream",
     "text": [
      "Populating the interactive namespace from numpy and matplotlib\n"
     ]
    },
    {
     "data": {
      "text/html": [
       "<style>.container { width:100% !important; }</style>"
      ],
      "text/plain": [
       "<IPython.core.display.HTML object>"
      ]
     },
     "metadata": {},
     "output_type": "display_data"
    }
   ],
   "source": [
    "jupyter_settings()"
   ]
  },
  {
   "cell_type": "markdown",
   "id": "12fae751",
   "metadata": {
    "heading_collapsed": true,
    "hidden": true
   },
   "source": [
    "## 0.2. Loading Data"
   ]
  },
  {
   "cell_type": "code",
   "execution_count": 4,
   "id": "99eb469b",
   "metadata": {
    "ExecuteTime": {
     "end_time": "2021-06-02T13:57:16.605942Z",
     "start_time": "2021-06-02T13:57:16.138229Z"
    },
    "hidden": true
   },
   "outputs": [],
   "source": [
    "df_raw = pd.read_csv('../data/raw/train.csv')"
   ]
  },
  {
   "cell_type": "markdown",
   "id": "20fdd744",
   "metadata": {
    "heading_collapsed": true
   },
   "source": [
    "# 1.0. Data Description"
   ]
  },
  {
   "cell_type": "code",
   "execution_count": 5,
   "id": "393f73f4",
   "metadata": {
    "ExecuteTime": {
     "end_time": "2021-06-02T13:57:16.689226Z",
     "start_time": "2021-06-02T13:57:16.608069Z"
    },
    "hidden": true
   },
   "outputs": [],
   "source": [
    "df1 = df_raw.copy()"
   ]
  },
  {
   "cell_type": "markdown",
   "id": "2a11bf92",
   "metadata": {
    "hidden": true
   },
   "source": [
    "## 1.1. Rename Columns"
   ]
  },
  {
   "cell_type": "code",
   "execution_count": 6,
   "id": "bf52a607",
   "metadata": {
    "ExecuteTime": {
     "end_time": "2021-06-02T13:57:16.695443Z",
     "start_time": "2021-06-02T13:57:16.690955Z"
    },
    "hidden": true
   },
   "outputs": [],
   "source": [
    "cols_new = ['id', 'gender', 'age', 'driving_license', 'region_code', 'previously_insured', 'vehicle_age', \n",
    "            'vehicle_damage', 'annual_premium', 'policy_sales_channel', 'vintage', 'response']\n",
    "df1.columns = cols_new"
   ]
  },
  {
   "cell_type": "markdown",
   "id": "8a2f8712",
   "metadata": {
    "heading_collapsed": true
   },
   "source": [
    "# 2.0. Feature Engineering"
   ]
  },
  {
   "cell_type": "code",
   "execution_count": 7,
   "id": "9c0d4b37",
   "metadata": {
    "ExecuteTime": {
     "end_time": "2021-06-02T13:57:16.755619Z",
     "start_time": "2021-06-02T13:57:16.697414Z"
    },
    "hidden": true
   },
   "outputs": [],
   "source": [
    "df2 = df1.copy()"
   ]
  },
  {
   "cell_type": "markdown",
   "id": "84cdf812",
   "metadata": {
    "hidden": true
   },
   "source": [
    "## 2.1. Feature Creation"
   ]
  },
  {
   "cell_type": "code",
   "execution_count": 8,
   "id": "bbfd0c8e",
   "metadata": {
    "ExecuteTime": {
     "end_time": "2021-06-02T13:57:16.884657Z",
     "start_time": "2021-06-02T13:57:16.758624Z"
    },
    "hidden": true
   },
   "outputs": [],
   "source": [
    "# gender\n",
    "gender_map = {'Male': 1, 'Female': 0}\n",
    "df2.loc[:, 'gender'] = df2['gender'].map(gender_map)\n",
    "\n",
    "# vehicle_age\n",
    "vehicle_age_map = {'1-2 Year': 'between_1_2_years', '< 1 Year': 'bellow_1_year', '> 2 Years': 'over_2_year'}\n",
    "df2.loc[:, 'vehicle_age'] = df2['vehicle_age'].map(vehicle_age_map)\n",
    "\n",
    "# vehicle_damage\n",
    "vehicle_damage_map = {'Yes': 1, 'No': 0}\n",
    "df2.loc[:, 'vehicle_damage'] = df2['vehicle_damage'].map(vehicle_damage_map)"
   ]
  },
  {
   "cell_type": "markdown",
   "id": "bfdfa236",
   "metadata": {
    "heading_collapsed": true
   },
   "source": [
    "# 3.0. Data Filtering"
   ]
  },
  {
   "cell_type": "code",
   "execution_count": 9,
   "id": "8eb860e5",
   "metadata": {
    "ExecuteTime": {
     "end_time": "2021-06-02T13:57:16.910226Z",
     "start_time": "2021-06-02T13:57:16.886828Z"
    },
    "hidden": true
   },
   "outputs": [],
   "source": [
    "df3 = df2.copy()"
   ]
  },
  {
   "cell_type": "markdown",
   "id": "1e9af8a2",
   "metadata": {
    "heading_collapsed": true
   },
   "source": [
    "# 4.0. EDA"
   ]
  },
  {
   "cell_type": "code",
   "execution_count": 10,
   "id": "cdfec81d",
   "metadata": {
    "ExecuteTime": {
     "end_time": "2021-06-02T13:57:16.984296Z",
     "start_time": "2021-06-02T13:57:16.913321Z"
    },
    "hidden": true
   },
   "outputs": [],
   "source": [
    "df4 = df3.copy()"
   ]
  },
  {
   "cell_type": "markdown",
   "id": "77cb317d",
   "metadata": {
    "heading_collapsed": true
   },
   "source": [
    "# 5.0. Data Preparation"
   ]
  },
  {
   "cell_type": "code",
   "execution_count": 11,
   "id": "c9390ed5",
   "metadata": {
    "ExecuteTime": {
     "end_time": "2021-06-02T13:57:17.203539Z",
     "start_time": "2021-06-02T13:57:16.986259Z"
    },
    "hidden": true
   },
   "outputs": [],
   "source": [
    "X = df4.drop(['response', 'id'], axis=1).copy()\n",
    "y = df4['response'].copy()\n",
    "\n",
    "x_train, x_validation, y_train, y_validation = ms.train_test_split(X, y, test_size=0.2)\n",
    "\n",
    "df5 = pd.concat([x_train, y_train], axis=1)"
   ]
  },
  {
   "cell_type": "markdown",
   "id": "9f3220b2",
   "metadata": {
    "hidden": true
   },
   "source": [
    "## 5.1. Standardization"
   ]
  },
  {
   "cell_type": "markdown",
   "id": "b9de6477",
   "metadata": {
    "hidden": true
   },
   "source": [
    "## 5.2. Rescaling"
   ]
  },
  {
   "cell_type": "markdown",
   "id": "fe4a63bb",
   "metadata": {
    "hidden": true
   },
   "source": [
    "## 5.3. Encoding"
   ]
  },
  {
   "cell_type": "code",
   "execution_count": 12,
   "id": "94566b25",
   "metadata": {
    "ExecuteTime": {
     "end_time": "2021-06-02T13:57:17.290427Z",
     "start_time": "2021-06-02T13:57:17.205398Z"
    },
    "hidden": true
   },
   "outputs": [],
   "source": [
    "df5 = pd.get_dummies(df5, columns=['vehicle_age'], prefix=['vehicle_age'])"
   ]
  },
  {
   "cell_type": "markdown",
   "id": "ad7ec988",
   "metadata": {
    "hidden": true
   },
   "source": [
    "## 5.4. Data Preparation - Validation "
   ]
  },
  {
   "cell_type": "code",
   "execution_count": 13,
   "id": "581db845",
   "metadata": {
    "ExecuteTime": {
     "end_time": "2021-06-02T13:57:17.311887Z",
     "start_time": "2021-06-02T13:57:17.292461Z"
    },
    "hidden": true
   },
   "outputs": [],
   "source": [
    "x_validation = pd.get_dummies(x_validation, columns=['vehicle_age'], prefix=['vehicle_age'])"
   ]
  },
  {
   "cell_type": "markdown",
   "id": "a90ce96e",
   "metadata": {
    "heading_collapsed": true
   },
   "source": [
    "# 6.0. Feature Selection"
   ]
  },
  {
   "cell_type": "code",
   "execution_count": 14,
   "id": "271d14b2",
   "metadata": {
    "ExecuteTime": {
     "end_time": "2021-06-02T13:57:17.318764Z",
     "start_time": "2021-06-02T13:57:17.314678Z"
    },
    "hidden": true
   },
   "outputs": [],
   "source": [
    "cols_selected = ['gender', 'age', 'driving_license', 'region_code', \n",
    "                 'previously_insured','vehicle_damage', 'annual_premium', \n",
    "                 'policy_sales_channel', 'vintage', 'vehicle_age_bellow_1_year',\n",
    "                 'vehicle_age_between_1_2_years', 'vehicle_age_over_2_year']"
   ]
  },
  {
   "cell_type": "markdown",
   "id": "cc20e0c4",
   "metadata": {
    "heading_collapsed": true
   },
   "source": [
    "# 7.0. Machine Learning Modelling"
   ]
  },
  {
   "cell_type": "code",
   "execution_count": 15,
   "id": "ca039fbf",
   "metadata": {
    "ExecuteTime": {
     "end_time": "2021-06-02T13:57:17.360006Z",
     "start_time": "2021-06-02T13:57:17.320829Z"
    },
    "hidden": true
   },
   "outputs": [],
   "source": [
    "x_train = df5[cols_selected]\n",
    "\n",
    "x_val = x_validation[cols_selected]\n",
    "y_val = y_validation"
   ]
  },
  {
   "cell_type": "markdown",
   "id": "85ebed9d",
   "metadata": {
    "heading_collapsed": true,
    "hidden": true
   },
   "source": [
    "## 7.1. KNN"
   ]
  },
  {
   "cell_type": "code",
   "execution_count": 16,
   "id": "fc74962d",
   "metadata": {
    "ExecuteTime": {
     "end_time": "2021-06-02T13:57:30.221862Z",
     "start_time": "2021-06-02T13:57:17.362440Z"
    },
    "hidden": true
   },
   "outputs": [],
   "source": [
    "# model definition and fit\n",
    "model_knn = ng.KNeighborsClassifier().fit(x_train, y_train)\n",
    "\n",
    "# Predictions\n",
    "yhat_knn = model_knn.predict_proba(x_val)\n",
    "\n",
    "# Performance\n",
    "result_knn = perfomance_metrics_at_k(x_val, y_val, yhat_knn, 'KNeighborsClassifier', 0.2)\n",
    "result_knn"
   ]
  },
  {
   "cell_type": "markdown",
   "id": "ceee187a",
   "metadata": {
    "heading_collapsed": true,
    "hidden": true
   },
   "source": [
    "## 7.2. Logistic Regression"
   ]
  },
  {
   "cell_type": "code",
   "execution_count": 28,
   "id": "406461d8",
   "metadata": {
    "ExecuteTime": {
     "end_time": "2021-06-02T14:08:05.235814Z",
     "start_time": "2021-06-02T14:07:59.963966Z"
    },
    "hidden": true
   },
   "outputs": [
    {
     "name": "stderr",
     "output_type": "stream",
     "text": [
      "/home/cid/.pyenv/versions/3.8.0/envs/health-insurance-cross-sell-prediction/lib/python3.8/site-packages/sklearn/linear_model/_logistic.py:763: ConvergenceWarning: lbfgs failed to converge (status=1):\n",
      "STOP: TOTAL NO. of ITERATIONS REACHED LIMIT.\n",
      "\n",
      "Increase the number of iterations (max_iter) or scale the data as shown in:\n",
      "    https://scikit-learn.org/stable/modules/preprocessing.html\n",
      "Please also refer to the documentation for alternative solver options:\n",
      "    https://scikit-learn.org/stable/modules/linear_model.html#logistic-regression\n",
      "  n_iter_i = _check_optimize_result(\n"
     ]
    },
    {
     "data": {
      "text/html": [
       "<div>\n",
       "<style scoped>\n",
       "    .dataframe tbody tr th:only-of-type {\n",
       "        vertical-align: middle;\n",
       "    }\n",
       "\n",
       "    .dataframe tbody tr th {\n",
       "        vertical-align: top;\n",
       "    }\n",
       "\n",
       "    .dataframe thead th {\n",
       "        text-align: right;\n",
       "    }\n",
       "</style>\n",
       "<table border=\"1\" class=\"dataframe\">\n",
       "  <thead>\n",
       "    <tr style=\"text-align: right;\">\n",
       "      <th></th>\n",
       "      <th>model_name</th>\n",
       "      <th>Precision@K</th>\n",
       "      <th>Recall@K</th>\n",
       "    </tr>\n",
       "  </thead>\n",
       "  <tbody>\n",
       "    <tr>\n",
       "      <th>0</th>\n",
       "      <td>LogisticRegression</td>\n",
       "      <td>0.228</td>\n",
       "      <td>0.375</td>\n",
       "    </tr>\n",
       "  </tbody>\n",
       "</table>\n",
       "</div>"
      ],
      "text/plain": [
       "           model_name  Precision@K  Recall@K\n",
       "0  LogisticRegression        0.228     0.375"
      ]
     },
     "execution_count": 28,
     "metadata": {},
     "output_type": "execute_result"
    }
   ],
   "source": [
    "# model definition and fit\n",
    "model_lr = lm.LogisticRegression().fit(x_train, y_train)\n",
    "\n",
    "# predictions\n",
    "yhat_lr = model_lr.predict_proba(x_val)\n",
    "\n",
    "# Performance\n",
    "result_lr = perfomance_metrics_at_k(x_val, y_val, yhat_lr, 'LogisticRegression', 0.2)\n",
    "result_lr"
   ]
  },
  {
   "cell_type": "markdown",
   "id": "8ee2c44b",
   "metadata": {
    "heading_collapsed": true,
    "hidden": true
   },
   "source": [
    "## 7.3. Extra Trees Classifier"
   ]
  },
  {
   "cell_type": "code",
   "execution_count": 23,
   "id": "ad4b8077",
   "metadata": {
    "ExecuteTime": {
     "end_time": "2021-06-02T14:02:42.890815Z",
     "start_time": "2021-06-02T14:02:10.825798Z"
    },
    "hidden": true
   },
   "outputs": [],
   "source": [
    "# model definition and fit\n",
    "model_et = en.ExtraTreesClassifier().fit(x_train, y_train)\n",
    "\n",
    "# predictions\n",
    "yhat_et = model_et.predict_proba(x_val)\n",
    "\n",
    "# Perfomance\n",
    "result_et = perfomance_metrics_at_k(x_val, y_val, yhat_et, 'ExtraTreesClassifier', 0.2 )\n",
    "result_et"
   ]
  },
  {
   "cell_type": "markdown",
   "id": "f6bb87c5",
   "metadata": {
    "heading_collapsed": true,
    "hidden": true
   },
   "source": [
    "## 7.4. Random Forest Classifier"
   ]
  },
  {
   "cell_type": "code",
   "execution_count": 26,
   "id": "daf6ca76",
   "metadata": {
    "ExecuteTime": {
     "end_time": "2021-06-02T14:06:20.757086Z",
     "start_time": "2021-06-02T14:04:59.348904Z"
    },
    "hidden": true
   },
   "outputs": [],
   "source": [
    "model_rf = en.RandomForestClassifier().fit(x_train, y_train)\n",
    "\n",
    "yhat_rf = model_rf.predict_proba(x_val)\n",
    "\n",
    "result_rf = perfomance_metrics_at_k(x_val, y_val, yhat_rf, 'RandomForestClassifier', 0.2)\n",
    "result_rf"
   ]
  },
  {
   "cell_type": "markdown",
   "id": "54f90d7f",
   "metadata": {
    "heading_collapsed": true,
    "hidden": true
   },
   "source": [
    "## 7.5.  XGBoost Classifier"
   ]
  },
  {
   "cell_type": "code",
   "execution_count": 35,
   "id": "4add8106",
   "metadata": {
    "ExecuteTime": {
     "end_time": "2021-06-02T14:13:06.038800Z",
     "start_time": "2021-06-02T14:12:42.178966Z"
    },
    "hidden": true
   },
   "outputs": [
    {
     "data": {
      "text/html": [
       "<div>\n",
       "<style scoped>\n",
       "    .dataframe tbody tr th:only-of-type {\n",
       "        vertical-align: middle;\n",
       "    }\n",
       "\n",
       "    .dataframe tbody tr th {\n",
       "        vertical-align: top;\n",
       "    }\n",
       "\n",
       "    .dataframe thead th {\n",
       "        text-align: right;\n",
       "    }\n",
       "</style>\n",
       "<table border=\"1\" class=\"dataframe\">\n",
       "  <thead>\n",
       "    <tr style=\"text-align: right;\">\n",
       "      <th></th>\n",
       "      <th>model_name</th>\n",
       "      <th>Precision@K</th>\n",
       "      <th>Recall@K</th>\n",
       "    </tr>\n",
       "  </thead>\n",
       "  <tbody>\n",
       "    <tr>\n",
       "      <th>0</th>\n",
       "      <td>XGBClassifier</td>\n",
       "      <td>0.354</td>\n",
       "      <td>0.581</td>\n",
       "    </tr>\n",
       "  </tbody>\n",
       "</table>\n",
       "</div>"
      ],
      "text/plain": [
       "      model_name  Precision@K  Recall@K\n",
       "0  XGBClassifier        0.354     0.581"
      ]
     },
     "execution_count": 35,
     "metadata": {},
     "output_type": "execute_result"
    }
   ],
   "source": [
    "# model definition and fit\n",
    "model_xgb = xgb.XGBClassifier().fit(x_train, y_train)\n",
    "\n",
    "# predictions\n",
    "yhat_xgb = model_xgb.predict_proba(x_val)\n",
    "\n",
    "# Perfomance\n",
    "result_xgb = perfomance_metrics_at_k(x_val, y_val, yhat_xgb, 'XGBClassifier', 0.2)\n",
    "result_xgb"
   ]
  },
  {
   "cell_type": "markdown",
   "id": "e2ebf298",
   "metadata": {
    "heading_collapsed": true,
    "hidden": true
   },
   "source": [
    "## 7.6. Machine Learning Model's Performance"
   ]
  },
  {
   "cell_type": "code",
   "execution_count": 39,
   "id": "33957185",
   "metadata": {
    "ExecuteTime": {
     "end_time": "2021-06-02T14:14:40.069835Z",
     "start_time": "2021-06-02T14:14:40.050732Z"
    },
    "hidden": true
   },
   "outputs": [
    {
     "data": {
      "text/html": [
       "<div>\n",
       "<style scoped>\n",
       "    .dataframe tbody tr th:only-of-type {\n",
       "        vertical-align: middle;\n",
       "    }\n",
       "\n",
       "    .dataframe tbody tr th {\n",
       "        vertical-align: top;\n",
       "    }\n",
       "\n",
       "    .dataframe thead th {\n",
       "        text-align: right;\n",
       "    }\n",
       "</style>\n",
       "<table border=\"1\" class=\"dataframe\">\n",
       "  <thead>\n",
       "    <tr style=\"text-align: right;\">\n",
       "      <th></th>\n",
       "      <th>model_name</th>\n",
       "      <th>Precision@K</th>\n",
       "      <th>Recall@K</th>\n",
       "    </tr>\n",
       "  </thead>\n",
       "  <tbody>\n",
       "    <tr>\n",
       "      <th>0</th>\n",
       "      <td>XGBClassifier</td>\n",
       "      <td>0.354</td>\n",
       "      <td>0.581</td>\n",
       "    </tr>\n",
       "    <tr>\n",
       "      <th>0</th>\n",
       "      <td>RandomForestClassifier</td>\n",
       "      <td>0.320</td>\n",
       "      <td>0.526</td>\n",
       "    </tr>\n",
       "    <tr>\n",
       "      <th>0</th>\n",
       "      <td>ExtraTreesClassifier</td>\n",
       "      <td>0.316</td>\n",
       "      <td>0.519</td>\n",
       "    </tr>\n",
       "    <tr>\n",
       "      <th>0</th>\n",
       "      <td>LogisticRegression</td>\n",
       "      <td>0.228</td>\n",
       "      <td>0.375</td>\n",
       "    </tr>\n",
       "    <tr>\n",
       "      <th>0</th>\n",
       "      <td>KNeighborsClassifier</td>\n",
       "      <td>0.183</td>\n",
       "      <td>0.301</td>\n",
       "    </tr>\n",
       "  </tbody>\n",
       "</table>\n",
       "</div>"
      ],
      "text/plain": [
       "               model_name  Precision@K  Recall@K\n",
       "0           XGBClassifier        0.354     0.581\n",
       "0  RandomForestClassifier        0.320     0.526\n",
       "0    ExtraTreesClassifier        0.316     0.519\n",
       "0      LogisticRegression        0.228     0.375\n",
       "0    KNeighborsClassifier        0.183     0.301"
      ]
     },
     "execution_count": 39,
     "metadata": {},
     "output_type": "execute_result"
    }
   ],
   "source": [
    "result = pd.concat([result_knn, result_lr, result_et, result_rf, result_xgb]).sort_values('Recall@K', ascending=False)\n",
    "result"
   ]
  }
 ],
 "metadata": {
  "kernelspec": {
   "display_name": "Python 3",
   "language": "python",
   "name": "python3"
  },
  "language_info": {
   "codemirror_mode": {
    "name": "ipython",
    "version": 3
   },
   "file_extension": ".py",
   "mimetype": "text/x-python",
   "name": "python",
   "nbconvert_exporter": "python",
   "pygments_lexer": "ipython3",
   "version": "3.8.0"
  }
 },
 "nbformat": 4,
 "nbformat_minor": 5
}
