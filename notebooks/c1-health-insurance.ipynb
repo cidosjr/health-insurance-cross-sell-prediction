{
 "cells": [
  {
   "cell_type": "markdown",
   "id": "2c56d080",
   "metadata": {
    "heading_collapsed": true
   },
   "source": [
    "# 0.0. Imports"
   ]
  },
  {
   "cell_type": "code",
   "execution_count": 63,
   "id": "39520897",
   "metadata": {
    "ExecuteTime": {
     "end_time": "2021-06-01T16:59:15.005179Z",
     "start_time": "2021-06-01T16:59:15.000917Z"
    },
    "hidden": true
   },
   "outputs": [],
   "source": [
    "import pandas as pd\n",
    "import numpy as np\n",
    "import seaborn as sns\n",
    "\n",
    "from matplotlib import pyplot as plt\n",
    "from IPython.display import HTML\n",
    "\n",
    "from sklearn import model_selection as ms\n",
    "from sklearn import neighbors as ng"
   ]
  },
  {
   "cell_type": "markdown",
   "id": "89a16a30",
   "metadata": {
    "heading_collapsed": true,
    "hidden": true
   },
   "source": [
    "## 0.1. Helper Functions"
   ]
  },
  {
   "cell_type": "code",
   "execution_count": 69,
   "id": "2314a514",
   "metadata": {
    "ExecuteTime": {
     "end_time": "2021-06-01T17:04:49.693581Z",
     "start_time": "2021-06-01T17:04:49.649360Z"
    },
    "hidden": true,
    "run_control": {
     "marked": false
    }
   },
   "outputs": [],
   "source": [
    "def precision_at_k(data, k):\n",
    "    data = data.reset_index(drop=True)\n",
    "    data['ranking'] = data.index + 1\n",
    "    \n",
    "    data['precision_at_k'] = data['response'].cumsum() / data['ranking']\n",
    "    \n",
    "    return (data.loc[k, 'precision_at_k'], data)\n",
    "\n",
    "\n",
    "def recall_at_k( data, k ):\n",
    "    data = data.reset_index( drop=True )\n",
    "    data['ranking'] = data.index + 1\n",
    "    \n",
    "    data['recall_at_k'] = data['response'].cumsum() / data['response'].sum()\n",
    "    \n",
    "    return ( data.loc[ k, 'recall_at_k'], data )\n",
    "\n",
    "\n",
    "def perfomance_metrics_at_k(x_val, y_val, yhat, model_name, percentage_of_base):  \n",
    "    df = x_val.copy()\n",
    "    df['response'] = y_val\n",
    "    df['score'] = yhat[:, 1].tolist()\n",
    "    df = df.sort_values( 'score', ascending=False )\n",
    "\n",
    "    k = int(percentage_of_base * df.shape[0])\n",
    "\n",
    "    precision,  data = precision_at_k(df, k)\n",
    "    recall, data = recall_at_k(df, k)\n",
    "\n",
    "    return pd.DataFrame({'model_name': [model_name],\n",
    "                         'Precision@K': [round(precision, 3)],\n",
    "                         'Recall@K': [round(recall, 3)]}, index=[0])\n",
    "def jupyter_settings():\n",
    "    %matplotlib inline\n",
    "    %pylab inline\n",
    "    \n",
    "    plt.style.use( 'bmh' )\n",
    "    plt.rcParams['figure.figsize'] = [25, 12]\n",
    "    plt.rcParams['font.size'] = 24\n",
    "    \n",
    "    display( HTML( '<style>.container { width:100% !important; }</style>') )\n",
    "    pd.options.display.max_columns = None\n",
    "    pd.options.display.max_rows = None\n",
    "    pd.set_option( 'display.expand_frame_repr', False )\n",
    "    \n",
    "    sns.set()"
   ]
  },
  {
   "cell_type": "code",
   "execution_count": 8,
   "id": "49645097",
   "metadata": {
    "ExecuteTime": {
     "end_time": "2021-06-01T16:34:22.266989Z",
     "start_time": "2021-06-01T16:34:22.234474Z"
    },
    "hidden": true
   },
   "outputs": [
    {
     "name": "stdout",
     "output_type": "stream",
     "text": [
      "Populating the interactive namespace from numpy and matplotlib\n"
     ]
    },
    {
     "data": {
      "text/html": [
       "<style>.container { width:100% !important; }</style>"
      ],
      "text/plain": [
       "<IPython.core.display.HTML object>"
      ]
     },
     "metadata": {},
     "output_type": "display_data"
    }
   ],
   "source": [
    "jupyter_settings()"
   ]
  },
  {
   "cell_type": "markdown",
   "id": "12fae751",
   "metadata": {
    "heading_collapsed": true,
    "hidden": true
   },
   "source": [
    "## 0.2. Loading Data"
   ]
  },
  {
   "cell_type": "code",
   "execution_count": 11,
   "id": "99eb469b",
   "metadata": {
    "ExecuteTime": {
     "end_time": "2021-06-01T16:36:49.350236Z",
     "start_time": "2021-06-01T16:36:49.003918Z"
    },
    "hidden": true
   },
   "outputs": [],
   "source": [
    "df_raw = pd.read_csv('../data/raw/train.csv')"
   ]
  },
  {
   "cell_type": "markdown",
   "id": "20fdd744",
   "metadata": {
    "heading_collapsed": true
   },
   "source": [
    "# 1.0. Data Description"
   ]
  },
  {
   "cell_type": "code",
   "execution_count": 12,
   "id": "393f73f4",
   "metadata": {
    "ExecuteTime": {
     "end_time": "2021-06-01T16:37:08.350566Z",
     "start_time": "2021-06-01T16:37:08.312965Z"
    },
    "hidden": true
   },
   "outputs": [],
   "source": [
    "df1 = df_raw.copy()"
   ]
  },
  {
   "cell_type": "markdown",
   "id": "2a11bf92",
   "metadata": {
    "heading_collapsed": true,
    "hidden": true
   },
   "source": [
    "## 1.1. Rename Columns"
   ]
  },
  {
   "cell_type": "code",
   "execution_count": 16,
   "id": "bf52a607",
   "metadata": {
    "ExecuteTime": {
     "end_time": "2021-06-01T16:39:05.672726Z",
     "start_time": "2021-06-01T16:39:05.667701Z"
    },
    "hidden": true
   },
   "outputs": [],
   "source": [
    "cols_new = ['id', 'gender', 'age', 'driving_license', 'region_code', 'previously_insured', 'vehicle_age', \n",
    "            'vehicle_damage', 'annual_premium', 'policy_sales_channel', 'vintage', 'response']\n",
    "df1.columns = cols_new"
   ]
  },
  {
   "cell_type": "markdown",
   "id": "8a2f8712",
   "metadata": {
    "heading_collapsed": true
   },
   "source": [
    "# 2.0. Feature Engineering"
   ]
  },
  {
   "cell_type": "code",
   "execution_count": 37,
   "id": "9c0d4b37",
   "metadata": {
    "ExecuteTime": {
     "end_time": "2021-06-01T16:49:22.217148Z",
     "start_time": "2021-06-01T16:49:22.207071Z"
    },
    "hidden": true
   },
   "outputs": [],
   "source": [
    "df2 = df1.copy()"
   ]
  },
  {
   "cell_type": "markdown",
   "id": "84cdf812",
   "metadata": {
    "hidden": true
   },
   "source": [
    "## 2.1. Feature Creation"
   ]
  },
  {
   "cell_type": "code",
   "execution_count": 38,
   "id": "bbfd0c8e",
   "metadata": {
    "ExecuteTime": {
     "end_time": "2021-06-01T16:49:22.680321Z",
     "start_time": "2021-06-01T16:49:22.561324Z"
    },
    "hidden": true
   },
   "outputs": [],
   "source": [
    "# gender\n",
    "gender_map = {'Male': 1, 'Female': 0}\n",
    "df2.loc[:, 'gender'] = df2['gender'].map(gender_map)\n",
    "\n",
    "# vehicle_age\n",
    "vehicle_age_map = {'1-2 Year': 'between_1_2_years', '< 1 Year': 'bellow_1_year', '> 2 Years': 'over_2_year'}\n",
    "df2.loc[:, 'vehicle_age'] = df2['vehicle_age'].map(vehicle_age_map)\n",
    "\n",
    "# vehicle_damage\n",
    "vehicle_damage_map = {'Yes': 1, 'No': 0}\n",
    "df2.loc[:, 'vehicle_damage'] = df2['vehicle_damage'].map(vehicle_damage_map)"
   ]
  },
  {
   "cell_type": "markdown",
   "id": "bfdfa236",
   "metadata": {
    "heading_collapsed": true
   },
   "source": [
    "# 3.0. Data Filtering"
   ]
  },
  {
   "cell_type": "code",
   "execution_count": 39,
   "id": "8eb860e5",
   "metadata": {
    "ExecuteTime": {
     "end_time": "2021-06-01T16:49:36.501814Z",
     "start_time": "2021-06-01T16:49:36.472925Z"
    },
    "hidden": true
   },
   "outputs": [],
   "source": [
    "df3 = df2.copy()"
   ]
  },
  {
   "cell_type": "markdown",
   "id": "1e9af8a2",
   "metadata": {
    "heading_collapsed": true
   },
   "source": [
    "# 4.0. EDA"
   ]
  },
  {
   "cell_type": "code",
   "execution_count": 40,
   "id": "cdfec81d",
   "metadata": {
    "ExecuteTime": {
     "end_time": "2021-06-01T16:49:36.792050Z",
     "start_time": "2021-06-01T16:49:36.768888Z"
    },
    "hidden": true
   },
   "outputs": [],
   "source": [
    "df4 = df3.copy()"
   ]
  },
  {
   "cell_type": "markdown",
   "id": "77cb317d",
   "metadata": {
    "heading_collapsed": true
   },
   "source": [
    "# 5.0. Data Preparation"
   ]
  },
  {
   "cell_type": "code",
   "execution_count": 52,
   "id": "c9390ed5",
   "metadata": {
    "ExecuteTime": {
     "end_time": "2021-06-01T16:52:48.769251Z",
     "start_time": "2021-06-01T16:52:48.623321Z"
    },
    "hidden": true
   },
   "outputs": [],
   "source": [
    "X = df4.drop(['response', 'id'], axis=1).copy()\n",
    "y = df4['response'].copy()\n",
    "\n",
    "x_train, x_validation, y_train, y_validation = ms.train_test_split(X, y, test_size=0.2)\n",
    "\n",
    "df5 = pd.concat([x_train, y_train], axis=1)"
   ]
  },
  {
   "cell_type": "markdown",
   "id": "9f3220b2",
   "metadata": {
    "hidden": true
   },
   "source": [
    "## 5.1. Standardization"
   ]
  },
  {
   "cell_type": "markdown",
   "id": "b9de6477",
   "metadata": {
    "hidden": true
   },
   "source": [
    "## 5.2. Rescaling"
   ]
  },
  {
   "cell_type": "markdown",
   "id": "fe4a63bb",
   "metadata": {
    "hidden": true
   },
   "source": [
    "## 5.3. Encoding"
   ]
  },
  {
   "cell_type": "code",
   "execution_count": 53,
   "id": "94566b25",
   "metadata": {
    "ExecuteTime": {
     "end_time": "2021-06-01T16:52:49.404598Z",
     "start_time": "2021-06-01T16:52:49.276758Z"
    },
    "hidden": true
   },
   "outputs": [],
   "source": [
    "df5 = pd.get_dummies(df5, columns=['vehicle_age'], prefix=['vehicle_age'])"
   ]
  },
  {
   "cell_type": "markdown",
   "id": "ad7ec988",
   "metadata": {
    "hidden": true
   },
   "source": [
    "## 5.4. Data Preparation - Validation "
   ]
  },
  {
   "cell_type": "code",
   "execution_count": 54,
   "id": "581db845",
   "metadata": {
    "ExecuteTime": {
     "end_time": "2021-06-01T16:52:50.671447Z",
     "start_time": "2021-06-01T16:52:50.644236Z"
    },
    "hidden": true
   },
   "outputs": [],
   "source": [
    "x_validation = pd.get_dummies(x_validation, columns=['vehicle_age'], prefix=['vehicle_age'])"
   ]
  },
  {
   "cell_type": "markdown",
   "id": "a90ce96e",
   "metadata": {
    "heading_collapsed": true
   },
   "source": [
    "# 6.0. Feature Selection"
   ]
  },
  {
   "cell_type": "code",
   "execution_count": 58,
   "id": "271d14b2",
   "metadata": {
    "ExecuteTime": {
     "end_time": "2021-06-01T16:57:18.414460Z",
     "start_time": "2021-06-01T16:57:18.410256Z"
    },
    "hidden": true
   },
   "outputs": [],
   "source": [
    "cols_selected = ['gender', 'age', 'driving_license', 'region_code', \n",
    "                 'previously_insured','vehicle_damage', 'annual_premium', \n",
    "                 'policy_sales_channel', 'vintage', 'vehicle_age_bellow_1_year',\n",
    "                 'vehicle_age_between_1_2_years', 'vehicle_age_over_2_year']"
   ]
  },
  {
   "cell_type": "markdown",
   "id": "cc20e0c4",
   "metadata": {
    "heading_collapsed": true
   },
   "source": [
    "# 7.0. Machine Learning Modelling"
   ]
  },
  {
   "cell_type": "code",
   "execution_count": 59,
   "id": "ca039fbf",
   "metadata": {
    "ExecuteTime": {
     "end_time": "2021-06-01T16:57:18.951410Z",
     "start_time": "2021-06-01T16:57:18.933850Z"
    },
    "hidden": true
   },
   "outputs": [],
   "source": [
    "x_train = df5[cols_selected]\n",
    "\n",
    "x_val = x_validation[cols_selected]\n",
    "y_val = y_validation"
   ]
  },
  {
   "cell_type": "markdown",
   "id": "85ebed9d",
   "metadata": {
    "heading_collapsed": true,
    "hidden": true
   },
   "source": [
    "## 7.1. KNN"
   ]
  },
  {
   "cell_type": "code",
   "execution_count": 70,
   "id": "fc74962d",
   "metadata": {
    "ExecuteTime": {
     "end_time": "2021-06-01T17:05:35.023694Z",
     "start_time": "2021-06-01T17:05:20.388547Z"
    },
    "hidden": true
   },
   "outputs": [],
   "source": [
    "# model definition and fit\n",
    "model_knn = ng.KNeighborsClassifier().fit(x_train, y_train)\n",
    "\n",
    "# Predictions\n",
    "yhat_knn = model_knn.predict_proba(x_val)"
   ]
  },
  {
   "cell_type": "code",
   "execution_count": 71,
   "id": "5810fe9c",
   "metadata": {
    "ExecuteTime": {
     "end_time": "2021-06-01T17:05:35.090979Z",
     "start_time": "2021-06-01T17:05:35.025936Z"
    },
    "hidden": true
   },
   "outputs": [
    {
     "data": {
      "text/html": [
       "<div>\n",
       "<style scoped>\n",
       "    .dataframe tbody tr th:only-of-type {\n",
       "        vertical-align: middle;\n",
       "    }\n",
       "\n",
       "    .dataframe tbody tr th {\n",
       "        vertical-align: top;\n",
       "    }\n",
       "\n",
       "    .dataframe thead th {\n",
       "        text-align: right;\n",
       "    }\n",
       "</style>\n",
       "<table border=\"1\" class=\"dataframe\">\n",
       "  <thead>\n",
       "    <tr style=\"text-align: right;\">\n",
       "      <th></th>\n",
       "      <th>model_name</th>\n",
       "      <th>Precision@K</th>\n",
       "      <th>Recall@K</th>\n",
       "    </tr>\n",
       "  </thead>\n",
       "  <tbody>\n",
       "    <tr>\n",
       "      <th>0</th>\n",
       "      <td>KNeighborsClassifier</td>\n",
       "      <td>0.185</td>\n",
       "      <td>0.302</td>\n",
       "    </tr>\n",
       "  </tbody>\n",
       "</table>\n",
       "</div>"
      ],
      "text/plain": [
       "             model_name  Precision@K  Recall@K\n",
       "0  KNeighborsClassifier        0.185     0.302"
      ]
     },
     "execution_count": 71,
     "metadata": {},
     "output_type": "execute_result"
    }
   ],
   "source": [
    "perfomance_metrics_at_k(x_val, y_val, yhat_knn, 'KNeighborsClassifier', 0.2)"
   ]
  }
 ],
 "metadata": {
  "kernelspec": {
   "display_name": "Python 3",
   "language": "python",
   "name": "python3"
  },
  "language_info": {
   "codemirror_mode": {
    "name": "ipython",
    "version": 3
   },
   "file_extension": ".py",
   "mimetype": "text/x-python",
   "name": "python",
   "nbconvert_exporter": "python",
   "pygments_lexer": "ipython3",
   "version": "3.8.0"
  }
 },
 "nbformat": 4,
 "nbformat_minor": 5
}
